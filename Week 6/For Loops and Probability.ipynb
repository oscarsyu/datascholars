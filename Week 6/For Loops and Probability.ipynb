{
 "cells": [
  {
   "cell_type": "code",
   "execution_count": 1,
   "metadata": {},
   "outputs": [],
   "source": [
    "from datascience import *\n",
    "import numpy as np\n",
    "%matplotlib inline\n",
    "import seaborn as sns\n",
    "import matplotlib.pyplot as plt\n",
    "plt.style.use(\"ggplot\")\n",
    "import math"
   ]
  },
  {
   "cell_type": "markdown",
   "metadata": {},
   "source": [
    "## For Loops\n",
    "\n",
    "There are many ways to accomplish the same goal.  Some are better for some situations while others are better for other situations, so it's best to learn them all!\n"
   ]
  },
  {
   "cell_type": "markdown",
   "metadata": {},
   "source": [
    "1. Let's count the number of tacos in a table called `tacos_table`"
   ]
  },
  {
   "cell_type": "code",
   "execution_count": 2,
   "metadata": {},
   "outputs": [
    {
     "data": {
      "text/html": [
       "<table border=\"1\" class=\"dataframe\">\n",
       "    <thead>\n",
       "        <tr>\n",
       "            <th>food</th>\n",
       "        </tr>\n",
       "    </thead>\n",
       "    <tbody>\n",
       "        <tr>\n",
       "            <td>burrito   </td>\n",
       "        </tr>\n",
       "    </tbody>\n",
       "        <tr>\n",
       "            <td>taco      </td>\n",
       "        </tr>\n",
       "    </tbody>\n",
       "        <tr>\n",
       "            <td>quesadilla</td>\n",
       "        </tr>\n",
       "    </tbody>\n",
       "        <tr>\n",
       "            <td>taco      </td>\n",
       "        </tr>\n",
       "    </tbody>\n",
       "        <tr>\n",
       "            <td>taco      </td>\n",
       "        </tr>\n",
       "    </tbody>\n",
       "        <tr>\n",
       "            <td>burrito   </td>\n",
       "        </tr>\n",
       "    </tbody>\n",
       "</table>"
      ],
      "text/plain": [
       "food\n",
       "burrito\n",
       "taco\n",
       "quesadilla\n",
       "taco\n",
       "taco\n",
       "burrito"
      ]
     },
     "execution_count": 2,
     "metadata": {},
     "output_type": "execute_result"
    }
   ],
   "source": [
    "items = make_array(\"burrito\", \"taco\", \"quesadilla\", \"taco\", \"taco\", \"burrito\")\n",
    "tacos_table = Table().with_column(\"food\", items)\n",
    "tacos_table"
   ]
  },
  {
   "cell_type": "code",
   "execution_count": 3,
   "metadata": {},
   "outputs": [
    {
     "data": {
      "text/plain": [
       "3"
      ]
     },
     "execution_count": 3,
     "metadata": {},
     "output_type": "execute_result"
    }
   ],
   "source": [
    "#Here we use a counter that adds 1 every time it sees a \"taco\" in an array\n",
    "# we take the column of tacos_table as an array and assign i to each value of an array\n",
    "taco_count = 0\n",
    "for i in tacos_table.column(0):\n",
    "    if i == \"taco\":\n",
    "        taco_count = taco_count + 1\n",
    "taco_count"
   ]
  },
  {
   "cell_type": "code",
   "execution_count": 4,
   "metadata": {},
   "outputs": [
    {
     "data": {
      "text/plain": [
       "array([False,  True, False,  True,  True, False])"
      ]
     },
     "execution_count": 4,
     "metadata": {},
     "output_type": "execute_result"
    }
   ],
   "source": [
    "#Instead of a for loop, we can use np.count_nonzero\n",
    "#we first set every element in a variable called taco_array to an array of True and False.  \n",
    "#np.count_nonzero will then count up the number of Trues in the array, which is the number of tacos\n",
    "#we need to make that comparison between \"taco\" and the array of food items so that np.count_nonzero knows what to count\n",
    "taco_array = tacos_table.column(0) == \"taco\"\n",
    "taco_array"
   ]
  },
  {
   "cell_type": "code",
   "execution_count": 5,
   "metadata": {},
   "outputs": [
    {
     "data": {
      "text/plain": [
       "3"
      ]
     },
     "execution_count": 5,
     "metadata": {},
     "output_type": "execute_result"
    }
   ],
   "source": [
    "np.count_nonzero(taco_array)"
   ]
  },
  {
   "cell_type": "code",
   "execution_count": 6,
   "metadata": {},
   "outputs": [
    {
     "data": {
      "text/plain": [
       "3"
      ]
     },
     "execution_count": 6,
     "metadata": {},
     "output_type": "execute_result"
    }
   ],
   "source": [
    "#another way, though a little more wordy, is to use np.arange\n",
    "#we take the lenght of the taco_table column array, and make an array starting from 0 to the length of the array - 1\n",
    "# i in the for loop is then assigned to each value of the array per iteration\n",
    "taco_count = 0\n",
    "for i in np.arange(len(tacos_table.column(0))):\n",
    "    if tacos_table.column(0).item(i) == \"taco\":\n",
    "        taco_count += 1\n",
    "taco_count"
   ]
  },
  {
   "cell_type": "markdown",
   "metadata": {},
   "source": [
    "While `np.arange` may not be the best solution for the above problem, it is extremely useful for situations where you do not care about the actual *value* of i in each iteration but rather care about the *number of iterations* you want to perform.  That is the case with sampling.  We want to perform the same action of picking a number of values each time, but don't care about the value of i since we don't use it in the sampling.  Every sample is the same size and is the exact same action, so the acutla *value of i* doesn't matter.  \n",
    "\n",
    "Below, what is happening is that we use np.arange to make an array between 0 and 4999 (5000 values) so that we can run the code inside the for-loop 5000 times.  We don't actually use the value of i in the for loop as we want to repeat the same exact action of randomly picking items over and over again.  \n",
    "\n",
    "Afterwards, we coun't up all the number of \"tacos\" we see with np.count_nonzero.  To find the proportion, we divde by the lenght of results, or in other words the number of trials we took.  In this case, we did 5000 rounds so it is dividing our number of tacos by 5000."
   ]
  },
  {
   "cell_type": "code",
   "execution_count": 7,
   "metadata": {},
   "outputs": [
    {
     "data": {
      "text/plain": [
       "0.4946"
      ]
     },
     "execution_count": 7,
     "metadata": {},
     "output_type": "execute_result"
    }
   ],
   "source": [
    "#sample 5000 tacos and find proportion of tacos\n",
    "results = make_array()\n",
    "for i in np.arange(5000):\n",
    "    sample = np.random.choice(tacos_table.column(0))\n",
    "    results = np.append(sample, results)\n",
    "    \n",
    "np.count_nonzero(results == \"taco\") /len(results)"
   ]
  },
  {
   "cell_type": "markdown",
   "metadata": {},
   "source": [
    "We can also use the method `.sample` instead of writing the for loop, and specifying the parater `with_replacement` to make sure we are sampling with replacement.  Remember, `.sample` returns a table, so we have to use the `.where` to find all the rows that have \"taco\", then use `.num_rows` to find the number of rows with \"taco\".  Then we divide the number of \"tacos\" by the number we sampled, which is 5000."
   ]
  },
  {
   "cell_type": "code",
   "execution_count": 8,
   "metadata": {},
   "outputs": [
    {
     "data": {
      "text/plain": [
       "0.4986"
      ]
     },
     "execution_count": 8,
     "metadata": {},
     "output_type": "execute_result"
    }
   ],
   "source": [
    "resampled = tacos_table.sample(5000, with_replacement = True)\n",
    "resampled.where(\"food\", \"taco\").num_rows / 5000"
   ]
  },
  {
   "cell_type": "markdown",
   "metadata": {},
   "source": [
    "This process can be applied to the idea of rolling dice as well.  Here is a table of all dice faces."
   ]
  },
  {
   "cell_type": "code",
   "execution_count": 14,
   "metadata": {},
   "outputs": [
    {
     "data": {
      "text/html": [
       "<table border=\"1\" class=\"dataframe\">\n",
       "    <thead>\n",
       "        <tr>\n",
       "            <th>dice</th>\n",
       "        </tr>\n",
       "    </thead>\n",
       "    <tbody>\n",
       "        <tr>\n",
       "            <td>1   </td>\n",
       "        </tr>\n",
       "    </tbody>\n",
       "        <tr>\n",
       "            <td>2   </td>\n",
       "        </tr>\n",
       "    </tbody>\n",
       "        <tr>\n",
       "            <td>3   </td>\n",
       "        </tr>\n",
       "    </tbody>\n",
       "        <tr>\n",
       "            <td>4   </td>\n",
       "        </tr>\n",
       "    </tbody>\n",
       "        <tr>\n",
       "            <td>5   </td>\n",
       "        </tr>\n",
       "    </tbody>\n",
       "        <tr>\n",
       "            <td>6   </td>\n",
       "        </tr>\n",
       "    </tbody>\n",
       "</table>"
      ],
      "text/plain": [
       "dice\n",
       "1\n",
       "2\n",
       "3\n",
       "4\n",
       "5\n",
       "6"
      ]
     },
     "execution_count": 14,
     "metadata": {},
     "output_type": "execute_result"
    }
   ],
   "source": [
    "dice = np.arange(1, 7)\n",
    "dice_table = Table().with_column(\"dice\", dice)\n",
    "dice_table"
   ]
  },
  {
   "cell_type": "markdown",
   "metadata": {},
   "source": [
    "Now we simulate rolling a die 1000 times.  We show two ways of doing the same thing, one using a for-loop and the other using the `.sample` method."
   ]
  },
  {
   "cell_type": "code",
   "execution_count": 13,
   "metadata": {
    "scrolled": true
   },
   "outputs": [
    {
     "data": {
      "text/plain": [
       "array([2, 5, 6, 6, 3, 6, 3, 1, 4, 4])"
      ]
     },
     "execution_count": 13,
     "metadata": {},
     "output_type": "execute_result"
    }
   ],
   "source": [
    "results = make_array()\n",
    "for i in np.arange(1000):\n",
    "    sample = np.random.choice(dice)\n",
    "    results = np.append(results, sample)\n",
    "results\n",
    "\n",
    "\n",
    "results = dice_table.sample(1000, True).column(0)\n",
    "results[0:10] #just shows the first 10 of a 1000 array"
   ]
  },
  {
   "cell_type": "markdown",
   "metadata": {},
   "source": [
    "With 1000 rolls, we are seeing the proportion of faces evening out, due to the Law of Large Numbers."
   ]
  },
  {
   "cell_type": "code",
   "execution_count": 17,
   "metadata": {},
   "outputs": [
    {
     "data": {
      "image/png": "[encoded data removed]",
      "text/plain": [
       "<matplotlib.figure.Figure at 0x1a1115b4e0>"
      ]
     },
     "metadata": {},
     "output_type": "display_data"
    }
   ],
   "source": [
    "Table().with_column(\"results\", results).hist()"
   ]
  },
  {
   "cell_type": "markdown",
   "metadata": {},
   "source": [
    "## Probability"
   ]
  },
  {
   "cell_type": "markdown",
   "metadata": {},
   "source": [
    "Here are some exercises and examples of probability.  With probability, you should **avoid** pattern matching (aka trying to use a formula).  Try to think things out logically and break the problem down into smaller parts.  For example, if we were trying to look at multiple rolls of a dice, consider one roll of dice before going up to more rolls.  That being said, many times key words can key you into what types of operations you can take\n",
    "- \"and\" - multiply events\n",
    "- \"or\" - addition of events\n",
    "- \"at least\" - use the complement rule\n"
   ]
  },
  {
   "cell_type": "markdown",
   "metadata": {},
   "source": [
    "1. Probability of rolling a 1 and a 6"
   ]
  },
  {
   "cell_type": "code",
   "execution_count": 18,
   "metadata": {},
   "outputs": [
    {
     "data": {
      "text/plain": [
       "0.05555555555555555"
      ]
     },
     "execution_count": 18,
     "metadata": {},
     "output_type": "execute_result"
    }
   ],
   "source": [
    "2 * (1/6) * (1/6)"
   ]
  },
  {
   "cell_type": "markdown",
   "metadata": {},
   "source": [
    "We want to look at cases of both 1 and then 6, and 6 and then 1"
   ]
  },
  {
   "cell_type": "markdown",
   "metadata": {},
   "source": [
    "2.We are rolling a fair dice 10 times. What is the chance that\n",
    "every roll is less than or equal to 5?"
   ]
  },
  {
   "cell_type": "code",
   "execution_count": 86,
   "metadata": {},
   "outputs": [
    {
     "data": {
      "text/plain": [
       "0.1615055828898458"
      ]
     },
     "execution_count": 86,
     "metadata": {},
     "output_type": "execute_result"
    }
   ],
   "source": [
    "(5/6) ** 10"
   ]
  },
  {
   "cell_type": "markdown",
   "metadata": {},
   "source": [
    "We have 5 out of 6 heads possible in each roll, and we want to roll it 10 times."
   ]
  },
  {
   "cell_type": "markdown",
   "metadata": {},
   "source": [
    "A common misconception is the following"
   ]
  },
  {
   "cell_type": "code",
   "execution_count": 87,
   "metadata": {},
   "outputs": [
    {
     "data": {
      "text/plain": [
       "0.9999999834618283"
      ]
     },
     "execution_count": 87,
     "metadata": {},
     "output_type": "execute_result"
    }
   ],
   "source": [
    "1 - (1/6) ** 10"
   ]
  },
  {
   "cell_type": "markdown",
   "metadata": {},
   "source": [
    "There is a significant difference in probabilities between the two.  The difference is that with the second probability, we are removing only the scenario where we get 6 every single roll.  It does not remove situations where we get 9 6's or 8 6's and so on."
   ]
  },
  {
   "cell_type": "markdown",
   "metadata": {},
   "source": [
    "3.Equal Probability to pick cards:\n",
    "Given cards a b c, pick without replacement"
   ]
  },
  {
   "cell_type": "markdown",
   "metadata": {},
   "source": [
    "3.Find probability card a is the first card picked and find the probability that b is the second card picked."
   ]
  },
  {
   "cell_type": "markdown",
   "metadata": {},
   "source": [
    "The answer is that it is 1/3 for both cases.  And the reason why is because intuitively, it is equally likely that any card is in any position.  Mathetimatically, for card b as the second card, we can add together all of our possibilities (a as the first card, c as the first card) and it will sum to 1/3."
   ]
  },
  {
   "cell_type": "markdown",
   "metadata": {},
   "source": [
    "All possibilities:\n",
    "    - a b c\n",
    "    - c b a"
   ]
  },
  {
   "cell_type": "code",
   "execution_count": 19,
   "metadata": {},
   "outputs": [
    {
     "data": {
      "text/plain": [
       "0.3333333333333333"
      ]
     },
     "execution_count": 19,
     "metadata": {},
     "output_type": "execute_result"
    }
   ],
   "source": [
    "(1/3) * (1/2) * 1 + (1/3)* (1/2) * 1"
   ]
  },
  {
   "cell_type": "markdown",
   "metadata": {},
   "source": [
    "4.Out of a standard 52 card deck, what is the probability I get at least 1 heart in 5 draws, without replacement:"
   ]
  },
  {
   "cell_type": "markdown",
   "metadata": {},
   "source": [
    "Brute force:"
   ]
  },
  {
   "cell_type": "markdown",
   "metadata": {},
   "source": [
    "P(1 heart in 5 draws) + P(2 hearts in 5 draws) + P(3 hearts in 5 draws) + P(4 hearts in 5 draws) + P(5 hearts in 5 draws)\n",
    "\n",
    "Instead we can do:\n",
    "1 - P(0 hearts in 5 draws)"
   ]
  },
  {
   "cell_type": "code",
   "execution_count": 47,
   "metadata": {},
   "outputs": [
    {
     "data": {
      "text/plain": [
       "0.7784663865546219"
      ]
     },
     "execution_count": 47,
     "metadata": {},
     "output_type": "execute_result"
    }
   ],
   "source": [
    "1 - ((39/52) * (38/51) * (37/50) * (36/49) * (35/48))"
   ]
  }
 ],
 "metadata": {
  "kernelspec": {
   "display_name": "Python 3",
   "language": "python",
   "name": "python3"
  },
  "language_info": {
   "codemirror_mode": {
    "name": "ipython",
    "version": 3
   },
   "file_extension": ".py",
   "mimetype": "text/x-python",
   "name": "python",
   "nbconvert_exporter": "python",
   "pygments_lexer": "ipython3",
   "version": "3.6.4"
  }
 },
 "nbformat": 4,
 "nbformat_minor": 2
}
